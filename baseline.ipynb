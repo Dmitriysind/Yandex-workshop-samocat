{
 "cells": [
  {
   "cell_type": "code",
   "execution_count": 100,
   "id": "3e04ed25-5eb5-4c7c-a488-6459c1d5cb88",
   "metadata": {
    "tags": []
   },
   "outputs": [],
   "source": [
    "import numpy as np\n",
    "import pandas as pd\n",
    "import faiss\n",
    "from sklearn.preprocessing import StandardScaler"
   ]
  },
  {
   "cell_type": "code",
   "execution_count": 101,
   "id": "9481acc6",
   "metadata": {},
   "outputs": [],
   "source": [
    "base = pd.read_csv('data/base.csv')\n",
    "test = pd.read_csv('data/test.csv')\n",
    "train = pd.read_csv('data/train.csv')"
   ]
  },
  {
   "cell_type": "code",
   "execution_count": 102,
   "id": "f263fafd",
   "metadata": {},
   "outputs": [
    {
     "data": {
      "text/html": [
       "<div>\n",
       "<style scoped>\n",
       "    .dataframe tbody tr th:only-of-type {\n",
       "        vertical-align: middle;\n",
       "    }\n",
       "\n",
       "    .dataframe tbody tr th {\n",
       "        vertical-align: top;\n",
       "    }\n",
       "\n",
       "    .dataframe thead th {\n",
       "        text-align: right;\n",
       "    }\n",
       "</style>\n",
       "<table border=\"1\" class=\"dataframe\">\n",
       "  <thead>\n",
       "    <tr style=\"text-align: right;\">\n",
       "      <th></th>\n",
       "      <th>Id</th>\n",
       "      <th>0</th>\n",
       "      <th>1</th>\n",
       "      <th>2</th>\n",
       "      <th>3</th>\n",
       "      <th>4</th>\n",
       "      <th>5</th>\n",
       "      <th>6</th>\n",
       "      <th>7</th>\n",
       "      <th>8</th>\n",
       "      <th>...</th>\n",
       "      <th>63</th>\n",
       "      <th>64</th>\n",
       "      <th>65</th>\n",
       "      <th>66</th>\n",
       "      <th>67</th>\n",
       "      <th>68</th>\n",
       "      <th>69</th>\n",
       "      <th>70</th>\n",
       "      <th>71</th>\n",
       "      <th>Target</th>\n",
       "    </tr>\n",
       "  </thead>\n",
       "  <tbody>\n",
       "    <tr>\n",
       "      <th>0</th>\n",
       "      <td>0-query</td>\n",
       "      <td>-53.882748</td>\n",
       "      <td>17.971436</td>\n",
       "      <td>-42.117104</td>\n",
       "      <td>-183.93668</td>\n",
       "      <td>187.517490</td>\n",
       "      <td>-87.144930</td>\n",
       "      <td>-347.360606</td>\n",
       "      <td>38.307602</td>\n",
       "      <td>109.085560</td>\n",
       "      <td>...</td>\n",
       "      <td>70.107360</td>\n",
       "      <td>-155.80257</td>\n",
       "      <td>-101.965943</td>\n",
       "      <td>65.903790</td>\n",
       "      <td>34.457500</td>\n",
       "      <td>62.642094</td>\n",
       "      <td>134.763600</td>\n",
       "      <td>-415.750254</td>\n",
       "      <td>-25.958572</td>\n",
       "      <td>675816-base</td>\n",
       "    </tr>\n",
       "    <tr>\n",
       "      <th>1</th>\n",
       "      <td>1-query</td>\n",
       "      <td>-87.776370</td>\n",
       "      <td>6.806268</td>\n",
       "      <td>-32.054546</td>\n",
       "      <td>-177.26039</td>\n",
       "      <td>120.803330</td>\n",
       "      <td>-83.810590</td>\n",
       "      <td>-94.572749</td>\n",
       "      <td>-78.433090</td>\n",
       "      <td>124.915900</td>\n",
       "      <td>...</td>\n",
       "      <td>4.669178</td>\n",
       "      <td>-151.69771</td>\n",
       "      <td>-1.638704</td>\n",
       "      <td>68.170876</td>\n",
       "      <td>25.096191</td>\n",
       "      <td>89.974976</td>\n",
       "      <td>130.589630</td>\n",
       "      <td>-1035.092211</td>\n",
       "      <td>-51.276833</td>\n",
       "      <td>366656-base</td>\n",
       "    </tr>\n",
       "    <tr>\n",
       "      <th>2</th>\n",
       "      <td>2-query</td>\n",
       "      <td>-49.979565</td>\n",
       "      <td>3.841486</td>\n",
       "      <td>-116.118590</td>\n",
       "      <td>-180.40198</td>\n",
       "      <td>190.128430</td>\n",
       "      <td>-50.837620</td>\n",
       "      <td>26.943937</td>\n",
       "      <td>-30.447489</td>\n",
       "      <td>125.771164</td>\n",
       "      <td>...</td>\n",
       "      <td>78.039764</td>\n",
       "      <td>-169.14620</td>\n",
       "      <td>82.144186</td>\n",
       "      <td>66.008220</td>\n",
       "      <td>18.400496</td>\n",
       "      <td>212.409730</td>\n",
       "      <td>121.931470</td>\n",
       "      <td>-1074.464888</td>\n",
       "      <td>-22.547178</td>\n",
       "      <td>1447819-base</td>\n",
       "    </tr>\n",
       "    <tr>\n",
       "      <th>3</th>\n",
       "      <td>3-query</td>\n",
       "      <td>-47.810562</td>\n",
       "      <td>9.086598</td>\n",
       "      <td>-115.401695</td>\n",
       "      <td>-121.01136</td>\n",
       "      <td>94.652840</td>\n",
       "      <td>-109.255410</td>\n",
       "      <td>-775.150134</td>\n",
       "      <td>79.186520</td>\n",
       "      <td>124.003100</td>\n",
       "      <td>...</td>\n",
       "      <td>44.515266</td>\n",
       "      <td>-145.41675</td>\n",
       "      <td>93.990981</td>\n",
       "      <td>64.131350</td>\n",
       "      <td>106.061920</td>\n",
       "      <td>83.178760</td>\n",
       "      <td>118.277725</td>\n",
       "      <td>-1074.464888</td>\n",
       "      <td>-19.902788</td>\n",
       "      <td>1472602-base</td>\n",
       "    </tr>\n",
       "    <tr>\n",
       "      <th>4</th>\n",
       "      <td>4-query</td>\n",
       "      <td>-79.632126</td>\n",
       "      <td>14.442886</td>\n",
       "      <td>-58.903397</td>\n",
       "      <td>-147.05254</td>\n",
       "      <td>57.127068</td>\n",
       "      <td>-16.239529</td>\n",
       "      <td>-321.317964</td>\n",
       "      <td>45.984676</td>\n",
       "      <td>125.941284</td>\n",
       "      <td>...</td>\n",
       "      <td>45.028910</td>\n",
       "      <td>-196.09207</td>\n",
       "      <td>-117.626337</td>\n",
       "      <td>66.926220</td>\n",
       "      <td>42.456170</td>\n",
       "      <td>77.621765</td>\n",
       "      <td>92.479930</td>\n",
       "      <td>-1074.464888</td>\n",
       "      <td>-21.149351</td>\n",
       "      <td>717819-base</td>\n",
       "    </tr>\n",
       "  </tbody>\n",
       "</table>\n",
       "<p>5 rows × 74 columns</p>\n",
       "</div>"
      ],
      "text/plain": [
       "        Id          0          1           2          3           4  \\\n",
       "0  0-query -53.882748  17.971436  -42.117104 -183.93668  187.517490   \n",
       "1  1-query -87.776370   6.806268  -32.054546 -177.26039  120.803330   \n",
       "2  2-query -49.979565   3.841486 -116.118590 -180.40198  190.128430   \n",
       "3  3-query -47.810562   9.086598 -115.401695 -121.01136   94.652840   \n",
       "4  4-query -79.632126  14.442886  -58.903397 -147.05254   57.127068   \n",
       "\n",
       "            5           6          7           8  ...         63         64  \\\n",
       "0  -87.144930 -347.360606  38.307602  109.085560  ...  70.107360 -155.80257   \n",
       "1  -83.810590  -94.572749 -78.433090  124.915900  ...   4.669178 -151.69771   \n",
       "2  -50.837620   26.943937 -30.447489  125.771164  ...  78.039764 -169.14620   \n",
       "3 -109.255410 -775.150134  79.186520  124.003100  ...  44.515266 -145.41675   \n",
       "4  -16.239529 -321.317964  45.984676  125.941284  ...  45.028910 -196.09207   \n",
       "\n",
       "           65         66          67          68          69           70  \\\n",
       "0 -101.965943  65.903790   34.457500   62.642094  134.763600  -415.750254   \n",
       "1   -1.638704  68.170876   25.096191   89.974976  130.589630 -1035.092211   \n",
       "2   82.144186  66.008220   18.400496  212.409730  121.931470 -1074.464888   \n",
       "3   93.990981  64.131350  106.061920   83.178760  118.277725 -1074.464888   \n",
       "4 -117.626337  66.926220   42.456170   77.621765   92.479930 -1074.464888   \n",
       "\n",
       "          71        Target  \n",
       "0 -25.958572   675816-base  \n",
       "1 -51.276833   366656-base  \n",
       "2 -22.547178  1447819-base  \n",
       "3 -19.902788  1472602-base  \n",
       "4 -21.149351   717819-base  \n",
       "\n",
       "[5 rows x 74 columns]"
      ]
     },
     "execution_count": 102,
     "metadata": {},
     "output_type": "execute_result"
    }
   ],
   "source": [
    "train.head()"
   ]
  },
  {
   "cell_type": "code",
   "execution_count": 103,
   "id": "bd5dacdc",
   "metadata": {},
   "outputs": [],
   "source": [
    "train_merge = train.merge(base, left_on = 'Target', right_on='Id').drop(columns = {'Id_x', \"Id_y\", 'Target'})"
   ]
  },
  {
   "cell_type": "code",
   "execution_count": 104,
   "id": "6b1cdb1c",
   "metadata": {},
   "outputs": [],
   "source": [
    "diff = np.array(train_merge)[:,:72] - np.array(train_merge)[:,72:]"
   ]
  },
  {
   "cell_type": "code",
   "execution_count": 105,
   "id": "41e31560",
   "metadata": {},
   "outputs": [],
   "source": [
    "sq = np.squeeze(diff)"
   ]
  },
  {
   "cell_type": "code",
   "execution_count": 106,
   "id": "3e16922b",
   "metadata": {},
   "outputs": [
    {
     "data": {
      "text/plain": [
       "(100000, 72)"
      ]
     },
     "execution_count": 106,
     "metadata": {},
     "output_type": "execute_result"
    }
   ],
   "source": [
    "sq.shape"
   ]
  },
  {
   "cell_type": "code",
   "execution_count": 107,
   "id": "1d35218f",
   "metadata": {},
   "outputs": [],
   "source": [
    "df = pd.DataFrame(sq, columns = [*range(0, sq.shape[1])])"
   ]
  },
  {
   "attachments": {},
   "cell_type": "markdown",
   "id": "2f76e4f9",
   "metadata": {},
   "source": [
    "Посмотрим гисторграммы разницы для каждого фича:"
   ]
  },
  {
   "cell_type": "code",
   "execution_count": 108,
   "id": "c8702dd3",
   "metadata": {},
   "outputs": [
    {
     "data": {
      "text/plain": [
       "<AxesSubplot:>"
      ]
     },
     "execution_count": 108,
     "metadata": {},
     "output_type": "execute_result"
    },
    {
     "data": {
      "image/png": "[encoded data removed]",
      "text/plain": [
       "<Figure size 432x288 with 1 Axes>"
      ]
     },
     "metadata": {
      "needs_background": "light"
     },
     "output_type": "display_data"
    }
   ],
   "source": [
    "df.iloc[:, 20].hist()"
   ]
  },
  {
   "attachments": {},
   "cell_type": "markdown",
   "id": "fa41d98a",
   "metadata": {},
   "source": [
    "Отберем те, у которых норм распределение по разнице в 0:"
   ]
  },
  {
   "cell_type": "code",
   "execution_count": 109,
   "id": "300915a3",
   "metadata": {},
   "outputs": [],
   "source": [
    "\n",
    "idx = [0, 3, 6, 8, 12, 13, 14, 17, 20, 22, 24, 26, 27, 28, 30, 31, 32, 33, 35, 39, 40, 42, 43, 47, 49, 52, 54, 58, 61, 65, 68, 70]"
   ]
  },
  {
   "attachments": {},
   "cell_type": "markdown",
   "id": "cff52b3c-55e0-49f9-9b0a-f39ca64a3916",
   "metadata": {},
   "source": [
    "Заскелим"
   ]
  },
  {
   "cell_type": "code",
   "execution_count": 110,
   "id": "6fff87b6",
   "metadata": {},
   "outputs": [],
   "source": [
    "sc = StandardScaler().fit(base.iloc[:,1:])\n",
    "base.iloc[:,1:] = sc.transform(base.iloc[:,1:])\n",
    "test.iloc[:,1:] = sc.transform(test.iloc[:,1:])"
   ]
  },
  {
   "cell_type": "code",
   "execution_count": 111,
   "id": "651f891d",
   "metadata": {},
   "outputs": [],
   "source": [
    "base = base.iloc[:,[0, 3, 6, 8, 12, 13, 14, 17, 20, 22, 24, 26, 27, 28, 30, 31, 32, 33, 35, 39, 40, 42, 43, 47, 49, 52, 54, 58, 61, 65, 68, 70]]\n",
    "test = test.iloc[:,[0, 3, 6, 8, 12, 13, 14, 17, 20, 22, 24, 26, 27, 28, 30, 31, 32, 33, 35, 39, 40, 42, 43, 47, 49, 52, 54, 58, 61, 65, 68, 70]]"
   ]
  },
  {
   "attachments": {},
   "cell_type": "markdown",
   "id": "53dd7542",
   "metadata": {},
   "source": [
    "Найдем ближние"
   ]
  },
  {
   "cell_type": "code",
   "execution_count": 112,
   "id": "7aeaf92b-d0f2-4dfd-b5fe-6531491e0080",
   "metadata": {
    "tags": []
   },
   "outputs": [],
   "source": [
    "model_columns = base.columns[1:]\n",
    "d = len(model_columns)                          # dimension\n",
    "nb = base.shape[0]                     # database size\n",
    "nq = test.shape[0]                 # nb of queries\n",
    "np.random.seed(134)             # make reproducible\n",
    "\n",
    "# xb = np.ascontiguousarray(base[model_columns].values).astype('float32')\n",
    "xb = np.array(base[model_columns].values).astype('float32')\n",
    "xq = np.array(test[model_columns].values).astype('float32')\n",
    "\n",
    "nlist = 1\n",
    "k = 10\n",
    "quantizer = faiss.IndexFlatL2(d)  # the other index\n",
    "index = faiss.IndexIVFFlat(quantizer, d, nlist)\n",
    "assert not index.is_trained\n",
    "index.train(xb)\n",
    "assert index.is_trained\n",
    "index.add(xb)\n"
   ]
  },
  {
   "cell_type": "code",
   "execution_count": 113,
   "id": "a0d1cf43",
   "metadata": {},
   "outputs": [],
   "source": [
    "index.nprobe = 1\n",
    "D, I = index.search(xq, k)"
   ]
  },
  {
   "attachments": {},
   "cell_type": "markdown",
   "id": "b7ddaf9f-41ed-4bb9-8966-059b87a81cff",
   "metadata": {},
   "source": [
    "Формируем таблицу с ответом"
   ]
  },
  {
   "cell_type": "code",
   "execution_count": 115,
   "id": "24d76a98-ddf5-4a0e-a511-b91c6b82ff66",
   "metadata": {
    "tags": []
   },
   "outputs": [
    {
     "name": "stderr",
     "output_type": "stream",
     "text": [
      "C:\\Users\\Lampq\\AppData\\Local\\Temp\\ipykernel_17248\\1006977022.py:10: SettingWithCopyWarning: \n",
      "A value is trying to be set on a copy of a slice from a DataFrame.\n",
      "Try using .loc[row_indexer,col_indexer] = value instead\n",
      "\n",
      "See the caveats in the documentation: https://pandas.pydata.org/pandas-docs/stable/user_guide/indexing.html#returning-a-view-versus-a-copy\n",
      "  baseline_answer['Predicted'] = predicted_list\n"
     ]
    }
   ],
   "source": [
    "#из таблицы I с индексами кандидатов формируем строку в формате ответа\n",
    "id_base_dict = dict(base['Id'])\n",
    "\n",
    "predicted_list = []\n",
    "for candidates in I:\n",
    "    predicted_list.append(' '.join([id_base_dict[candidate] for candidate in candidates]))\n",
    "    \n",
    "#формируем ответ\n",
    "baseline_answer = test[['Id']]\n",
    "baseline_answer['Predicted'] = predicted_list\n",
    "\n",
    "baseline_answer.to_csv('submission.csv', index=False)"
   ]
  }
 ],
 "metadata": {
  "kernelspec": {
   "display_name": "pet-project",
   "language": "python",
   "name": "python3"
  },
  "language_info": {
   "codemirror_mode": {
    "name": "ipython",
    "version": 3
   },
   "file_extension": ".py",
   "mimetype": "text/x-python",
   "name": "python",
   "nbconvert_exporter": "python",
   "pygments_lexer": "ipython3",
   "version": "3.10.0"
  },
  "toc-autonumbering": true,
  "toc-showcode": false
 },
 "nbformat": 4,
 "nbformat_minor": 5
}
